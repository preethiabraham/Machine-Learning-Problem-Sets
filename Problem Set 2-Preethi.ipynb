{
 "cells": [
  {
   "cell_type": "markdown",
   "metadata": {},
   "source": [
    "# Problem Set 2- By Preethi Susan Abraham"
   ]
  },
  {
   "cell_type": "markdown",
   "metadata": {},
   "source": [
    "1. What is the sum of the integers from 0 to 100 by 7? Find this answer using a for loop?"
   ]
  },
  {
   "cell_type": "code",
   "execution_count": 7,
   "metadata": {},
   "outputs": [
    {
     "name": "stdout",
     "output_type": "stream",
     "text": [
      "The sum of integers from 0 to 100 divisible by 7= 735\n"
     ]
    }
   ],
   "source": [
    "i=0\n",
    "sum=0\n",
    "for i in range(0,101):\n",
    "    if i%7==0:\n",
    "        sum=sum+i\n",
    "print(\"The sum of integers from 0 to 100 divisible by 7=\",sum)"
   ]
  },
  {
   "cell_type": "markdown",
   "metadata": {},
   "source": [
    "2. Repeat problem (1) using numpy vectors, and the np.sum() function.  (no loops allowed)"
   ]
  },
  {
   "cell_type": "code",
   "execution_count": 8,
   "metadata": {},
   "outputs": [],
   "source": [
    "import numpy as np"
   ]
  },
  {
   "cell_type": "code",
   "execution_count": 9,
   "metadata": {},
   "outputs": [
    {
     "name": "stdout",
     "output_type": "stream",
     "text": [
      "The sum of integers from 0 to 100 divisible by 7= 735\n"
     ]
    }
   ],
   "source": [
    "b=np.arange(0,101,7)\n",
    "print(\"The sum of integers from 0 to 100 divisible by 7=\",np.sum(b)) #sum of integers from 0 to 100 divisible by 7"
   ]
  },
  {
   "cell_type": "markdown",
   "metadata": {},
   "source": [
    "3. Find the standard deviation of a set of 50 uniform random variables distributed between 2 and 4?  Run this twice.  Is your answer the same, or different?  Why? Try this again, but now before each run, type np.random.seed(10).  Are your answers the same or different?"
   ]
  },
  {
   "cell_type": "code",
   "execution_count": 11,
   "metadata": {},
   "outputs": [
    {
     "name": "stdout",
     "output_type": "stream",
     "text": [
      "[3.04595353 3.39588371 3.76649189 2.28899147 3.55229715 3.86318516\n",
      " 3.1390504  3.7633909  3.07394638 3.87618678 2.49401753 2.41799374\n",
      " 3.23682762 3.01404522 2.9037731  2.56234476 2.54746141 3.46041405\n",
      " 2.09300726 3.02024089 3.0807625  3.19803357 3.23306132 2.22730583\n",
      " 2.92148556 2.59658391 2.97382508 3.06476771 3.49925383 2.04102272\n",
      " 3.60028724 3.35345333 3.60326956 2.37972253 2.36226505 3.24247152\n",
      " 3.53619443 2.46177434 3.27269187 3.20093907 3.47922157 3.87126188\n",
      " 3.65630916 3.51344043 2.24605786 3.9381159  2.69584361 2.00333282\n",
      " 3.05133986 2.33379633]\n",
      "\n",
      "\n",
      "Standard Deviation = 0.5435306820111435\n"
     ]
    }
   ],
   "source": [
    "c=np.random.uniform(low=2,high=4,size=50)\n",
    "print(c)\n",
    "print(\"\\n\")\n",
    "print(\"Standard Deviation =\",np.std(c))"
   ]
  },
  {
   "cell_type": "markdown",
   "metadata": {},
   "source": [
    "The values of standard deviation changes as we run it twice. This is because the array which is being generated is random in nature. So every time we run this command, the values in the array keep changing, hence the standard deviation also changes."
   ]
  },
  {
   "cell_type": "code",
   "execution_count": 12,
   "metadata": {},
   "outputs": [
    {
     "name": "stdout",
     "output_type": "stream",
     "text": [
      "[3.54264129 2.0415039  3.26729647 3.49760777 2.99701402 2.44959329\n",
      " 2.39612573 3.52106142 2.33822167 2.17667963 3.37071964 3.90678669\n",
      " 2.00789653 3.02438453 3.62524192 3.22505213 3.44351063 2.58375214\n",
      " 3.83554825 3.42915157 3.08508874 2.2843401  2.74668152 3.34826723\n",
      " 2.88366635 2.86802799 3.23553396 3.02627649 3.30079436 3.20207791\n",
      " 3.61044639 3.0432943  3.81729776 2.63847218 2.1809187  2.60140011\n",
      " 2.22796872 3.65736265 2.09379264 3.2525743  3.09517231 3.63857399\n",
      " 2.39789508 3.7137006  2.70330528 3.50929538 2.59192341 3.76787296\n",
      " 2.65102328 2.3300318 ]\n",
      "\n",
      "\n",
      "Standard Deviation= 0.5482205066779174\n"
     ]
    }
   ],
   "source": [
    "np.random.seed(10)\n",
    "d=np.random.uniform(low=2,high=4,size=50)\n",
    "print(d)\n",
    "print(\"\\n\")\n",
    "print(\"Standard Deviation=\",np.std(d))"
   ]
  },
  {
   "cell_type": "markdown",
   "metadata": {},
   "source": [
    "Here, the value of the standard deviation remains the same after we set the np.random.seed(10) command."
   ]
  },
  {
   "cell_type": "markdown",
   "metadata": {},
   "source": [
    "4. Set up the variable dataMat to be an array of uniform random variables from 0 to 1, with 10 rows and 50 columns.  Write Python code to report the sum of all the random variables, the sum of each column, and the sum for each row."
   ]
  },
  {
   "cell_type": "code",
   "execution_count": 13,
   "metadata": {},
   "outputs": [],
   "source": [
    "Mat=np.random.uniform(low=0,high=1,size=500)\n",
    "dataMat=np.reshape(Mat,(10,50))\n",
    "#dataMat"
   ]
  },
  {
   "cell_type": "code",
   "execution_count": 17,
   "metadata": {},
   "outputs": [
    {
     "name": "stdout",
     "output_type": "stream",
     "text": [
      "Sum of all elements in dataMat= 241.20271236523132\n",
      "\n",
      "\n",
      "Sum of each column in dataMat=\n",
      " [5.17122512 4.92268923 4.7213509  5.6230885  5.32529115 4.97312641\n",
      " 4.31430936 5.36886258 5.8007833  5.02420818 3.94257607 4.48949903\n",
      " 4.86092862 5.8133702  5.78429724 4.51817677 3.08034114 4.50278421\n",
      " 5.41117102 4.73920922 4.39285909 6.13562575 4.92323565 4.50152159\n",
      " 5.26566881 4.7439398  5.82225142 5.57998726 4.6766455  3.8227987\n",
      " 4.08077644 4.97515927 4.81776051 5.93408894 6.13106106 5.10039539\n",
      " 5.10967645 2.47015063 3.91849168 6.56460227 3.24786532 4.54643242\n",
      " 2.56342063 6.06276928 3.788267   6.17634244 5.51501067 3.98855706\n",
      " 4.45181918 3.50824391]\n",
      "\n",
      "\n",
      "Sum of each row in dataMat\n",
      "= [23.44344626 23.30152882 22.57447496 25.1462126  26.39566501 24.76486488\n",
      " 22.34255107 27.46127633 25.66357041 20.10912203]\n"
     ]
    }
   ],
   "source": [
    "print(\"Sum of all elements in dataMat=\",dataMat.sum())\n",
    "print(\"\\n\")\n",
    "print(\"Sum of each column in dataMat=\\n\",dataMat.sum(axis=0))\n",
    "print(\"\\n\")\n",
    "print(\"Sum of each row in dataMat\\n=\",dataMat.sum(axis=1))"
   ]
  },
  {
   "cell_type": "markdown",
   "metadata": {},
   "source": [
    "5. For this problem you will build a small monte-carlo experiment.  We will do this a lot in the class.  The basic idea is to find the standard deviation for the mean for samples of size [10,25,100] of normal random variables with mean 0, and variance 1. Use a big for loop to implement the iterations of the monte-carlo run.  Do this 1000 times.  For each iteration of the loop draw a set of normal random variables corresponding to the above sample sizes. In each case find the mean, and store it in a vector.  Once out of the loop, report the mean and standard deviations for the vectors generated in the for loop.  Your program will be outputting 6 values at the end."
   ]
  },
  {
   "cell_type": "code",
   "execution_count": 18,
   "metadata": {},
   "outputs": [
    {
     "name": "stdout",
     "output_type": "stream",
     "text": [
      "***************Means*******************\n",
      "\n",
      "Mean for sample size of 10 after 1000 iterations=\n",
      " -0.007943742553417114\n",
      "Mean for sample size of 25 after 1000 iterations=\n",
      " -0.010301543766987317\n",
      "Mean for sample size of 100 after 1000 iterations=\n",
      " -0.002043400617329551\n",
      "\n",
      "\n",
      "***********Standard Deviations***********\n",
      "\n",
      "Standard Deviation for sample size of 10 after 1000 iterations=\n",
      " 0.3139076306004027\n",
      "Standard Deviation for sample size of 25 after 1000 iterations=\n",
      " 0.1987524725343049\n",
      "Standard Deviation for sample size of 100 after 1000 iterations=\n",
      " 0.09883380288879788\n"
     ]
    }
   ],
   "source": [
    "mean_10_samples=[]\n",
    "mean_25_samples=[]\n",
    "mean_100_samples=[]\n",
    "\n",
    "meanarr_10_samples=[]\n",
    "meanarr_25_samples=[]\n",
    "meanarr_100_samples=[]\n",
    "\n",
    "for i in range(0,1000):\n",
    "    #For sample size of 10\n",
    "    vect_10_samples=np.random.standard_normal(10)\n",
    "    mean_10_samples=np.mean(vect_10_samples)\n",
    "    meanarr_10_samples.append(mean_10_samples)\n",
    "    \n",
    "    #For sample size of 25\n",
    "    vect_25_samples=np.random.standard_normal(25)\n",
    "    mean_25_samples=np.mean(vect_25_samples)\n",
    "    meanarr_25_samples.append(mean_25_samples)\n",
    "    \n",
    "    #For sample size of 100\n",
    "    vect_100_samples=np.random.standard_normal(100)\n",
    "    mean_100_samples=np.mean(vect_100_samples)\n",
    "    meanarr_100_samples.append(mean_100_samples)\n",
    "\n",
    "#print(meanarr_10_samples) \n",
    "#print(meanarr_25_samples) \n",
    "#print(meanarr_100_samples) \n",
    "\n",
    "#Means\n",
    "final_mean_10_samples=np.mean(meanarr_10_samples)\n",
    "final_mean_25_samples=np.mean(meanarr_25_samples)\n",
    "final_mean_100_samples=np.mean(meanarr_100_samples)\n",
    "\n",
    "#Standard Deviations\n",
    "final_stddev_10_samples=np.std(meanarr_10_samples)\n",
    "final_stddev_25_samples=np.std(meanarr_25_samples)\n",
    "final_stddev_100_samples=np.std(meanarr_100_samples)\n",
    "\n",
    "print(\"***************Means*******************\\n\")\n",
    "print(\"Mean for sample size of 10 after 1000 iterations=\\n\", final_mean_10_samples)\n",
    "print(\"Mean for sample size of 25 after 1000 iterations=\\n\", final_mean_25_samples)\n",
    "print(\"Mean for sample size of 100 after 1000 iterations=\\n\", final_mean_100_samples)\n",
    "print(\"\\n\")\n",
    "\n",
    "print(\"***********Standard Deviations***********\\n\")\n",
    "print(\"Standard Deviation for sample size of 10 after 1000 iterations=\\n\", final_stddev_10_samples)\n",
    "print(\"Standard Deviation for sample size of 25 after 1000 iterations=\\n\", final_stddev_25_samples)\n",
    "print(\"Standard Deviation for sample size of 100 after 1000 iterations=\\n\", final_stddev_100_samples)\n"
   ]
  }
 ],
 "metadata": {
  "kernelspec": {
   "display_name": "Python 3",
   "language": "python",
   "name": "python3"
  },
  "language_info": {
   "codemirror_mode": {
    "name": "ipython",
    "version": 3
   },
   "file_extension": ".py",
   "mimetype": "text/x-python",
   "name": "python",
   "nbconvert_exporter": "python",
   "pygments_lexer": "ipython3",
   "version": "3.7.6"
  }
 },
 "nbformat": 4,
 "nbformat_minor": 4
}
