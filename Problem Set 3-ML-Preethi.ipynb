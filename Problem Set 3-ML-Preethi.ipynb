{
 "cells": [
  {
   "cell_type": "markdown",
   "metadata": {},
   "source": [
    "# Problem Set 3- Question 1\n",
    "By Preethi Susan Abraham"
   ]
  },
  {
   "cell_type": "markdown",
   "metadata": {},
   "source": [
    "1. Generate a quadratic model with y=x+x2+e. x and e are both vectors which are normal mean 0, variance 1. Generate a monte-carlo sample from this model with length m = 20. Use the functions train_test_split() to get training and test sets where the test set is 1/2 of the full sample size, m. Fit three different models, a linear model, a quadratic model, and a 7 degree polynomial. (Use PolynomialFeatures() function for this.) Fit the three models to the training set and report their performance with R-squared on both the train and test sets. Hint: In this problem you are only generating one sample of length 20. Similar to the example from class, except now you have a quadratic term too."
   ]
  },
  {
   "cell_type": "code",
   "execution_count": 1,
   "metadata": {},
   "outputs": [],
   "source": [
    "%matplotlib inline\n",
    "import numpy as np\n",
    "import matplotlib.pyplot as plt\n",
    "from sklearn.model_selection import train_test_split\n",
    "from sklearn.linear_model import LinearRegression\n",
    "\n",
    "np.random.seed(10)"
   ]
  },
  {
   "cell_type": "code",
   "execution_count": 2,
   "metadata": {},
   "outputs": [],
   "source": [
    "def rsquared(y,yhat,ytrain):\n",
    "    RSS = np.sum( (y-yhat)**2)\n",
    "    yhatNaive = np.mean(ytrain)\n",
    "    naiveRSS = np.sum( (y-yhatNaive)**2)\n",
    "    rs = 1. - RSS/naiveRSS\n",
    "    return rs"
   ]
  },
  {
   "cell_type": "markdown",
   "metadata": {},
   "source": [
    "# Model 1: Linear Model (y=X+e)"
   ]
  },
  {
   "cell_type": "code",
   "execution_count": 3,
   "metadata": {},
   "outputs": [
    {
     "name": "stdout",
     "output_type": "stream",
     "text": [
      "Intercept, coefficient:\n",
      "[array([0.25995179]), array([[0.70384945]])]\n"
     ]
    },
    {
     "data": {
      "image/png": "[encoded data removed]",
      "text/plain": [
       "<Figure size 432x288 with 1 Axes>"
      ]
     },
     "metadata": {
      "needs_background": "light"
     },
     "output_type": "display_data"
    }
   ],
   "source": [
    "#Linear Model (y=X+e)\n",
    "\n",
    "m=20\n",
    "n=1\n",
    "\n",
    "X = np.random.normal(size=(m,n),loc=0,scale=1.)\n",
    "e = np.random.normal(size=(m,1),loc=0,scale=1.)\n",
    "y = X + e #Linear Model\n",
    "\n",
    "lr = LinearRegression(fit_intercept=True)#Linear Regression\n",
    "lr.fit(X, y) #fitting the model\n",
    "\n",
    "xfeature = np.arange(start=-2.0,stop=2.0,step=0.05)\n",
    "xf = xfeature.reshape(len(xfeature),1) #converting to matrix form\n",
    "\n",
    "#Prediction\n",
    "yhat = lr.predict(xf)\n",
    "# plot data\n",
    "plt.plot(X,y,\"o\")\n",
    "# plot regression line (target predictions)\n",
    "plt.plot(xf,yhat)\n",
    "plt.xlabel(\"Feature = x\")\n",
    "plt.ylabel(\"Target = y\")\n",
    "plt.grid()\n",
    "\n",
    "print(\"Intercept, coefficient:\")\n",
    "print([lr.intercept_,lr.coef_])"
   ]
  },
  {
   "cell_type": "code",
   "execution_count": 4,
   "metadata": {},
   "outputs": [
    {
     "name": "stdout",
     "output_type": "stream",
     "text": [
      "Full sample R-square:\n",
      "0.2416695155657037\n"
     ]
    }
   ],
   "source": [
    "#R squared value\n",
    "print(\"Full sample R-square:\")\n",
    "print(lr.score(X,y))"
   ]
  },
  {
   "cell_type": "code",
   "execution_count": 5,
   "metadata": {},
   "outputs": [
    {
     "name": "stdout",
     "output_type": "stream",
     "text": [
      "0.2416695155657037\n"
     ]
    }
   ],
   "source": [
    "#Same as above but with created function 'rsquared'\n",
    "\n",
    "yhat = lr.predict(X)\n",
    "# Send in y itself as training data \n",
    "# In this case test = train\n",
    "rsq = rsquared(y,yhat,y)\n",
    "print(rsq)"
   ]
  },
  {
   "cell_type": "code",
   "execution_count": 6,
   "metadata": {},
   "outputs": [
    {
     "name": "stdout",
     "output_type": "stream",
     "text": [
      "Train/test R-squares: (scikit-learn version)\n",
      "0.508655237064873\n",
      "-0.3844957310512862\n",
      "Train/test R-squares: (scikit-learn versions)\n",
      "0.508655237064873\n",
      "-0.3844957310512862\n"
     ]
    }
   ],
   "source": [
    "#Training and testing\n",
    "\n",
    "X_train, X_test, y_train, y_test = train_test_split(X,y,test_size=0.5)\n",
    "# Now run regression on training data \n",
    "lr.fit(X_train, y_train)\n",
    "\n",
    "\n",
    "# First rsquared by hand with function\n",
    "yhat_train = lr.predict(X_train)\n",
    "yhat_test  = lr.predict(X_test)\n",
    "\n",
    "# R-squared (my version using training data for sample mean)\n",
    "rsq_train = rsquared(y_train,yhat_train,y_train)\n",
    "rsq_test  = rsquared(y_test, yhat_test, y_train)\n",
    "\n",
    "# R-squared (scikit learn version, using test data for sample mean)\n",
    "rsq_train = rsquared(y_train,yhat_train,y_train)\n",
    "rsq_test  = rsquared(y_test, yhat_test, y_test)\n",
    "\n",
    "print(\"Train/test R-squares: (scikit-learn version)\")\n",
    "print(rsq_train)\n",
    "print(rsq_test)\n",
    "\n",
    "# Print R-square values on training and test data\n",
    "print(\"Train/test R-squares: (scikit-learn versions)\")\n",
    "print(lr.score(X_train,y_train))\n",
    "print(lr.score(X_test,y_test))"
   ]
  },
  {
   "cell_type": "markdown",
   "metadata": {},
   "source": [
    "# Model 2: Quadratic Model (y=X+X^2+e)"
   ]
  },
  {
   "cell_type": "code",
   "execution_count": 7,
   "metadata": {},
   "outputs": [],
   "source": [
    "from sklearn.preprocessing import PolynomialFeatures"
   ]
  },
  {
   "cell_type": "code",
   "execution_count": 8,
   "metadata": {},
   "outputs": [
    {
     "name": "stdout",
     "output_type": "stream",
     "text": [
      "X dimensions\n",
      "(20, 2)\n",
      "R squared for quadratic model= 0.2994469137718183\n"
     ]
    },
    {
     "data": {
      "image/png": "[encoded data removed]",
      "text/plain": [
       "<Figure size 432x288 with 1 Axes>"
      ]
     },
     "metadata": {
      "needs_background": "light"
     },
     "output_type": "display_data"
    }
   ],
   "source": [
    "poly = PolynomialFeatures(degree=2,include_bias=False)\n",
    "Xquadratic = poly.fit_transform(X)\n",
    "print(\"X dimensions\")\n",
    "print(Xquadratic.shape)\n",
    "# Fit regression\n",
    "lr.fit(Xquadratic,y)\n",
    "# Set X's for forecasting\n",
    "xfeature = np.arange(start=-1.5,stop=1.5,step=0.05)\n",
    "# Turn them into a matrix\n",
    "xf = xfeature.reshape(len(xfeature),1)\n",
    "# Add powers of X\n",
    "xfeaturePoly = poly.fit_transform(xf)\n",
    "yhat = lr.predict(xfeaturePoly)\n",
    "# plot data\n",
    "plt.plot(X,y,'o')\n",
    "# plot features\n",
    "plt.plot(xfeature,yhat)\n",
    "plt.xlabel(\"Feature = x\")\n",
    "plt.ylabel(\"Target = y\")\n",
    "plt.grid()\n",
    "# Report in sample performance of polynomial\n",
    "print('R squared for quadratic model=',lr.score(Xquadratic,y))"
   ]
  },
  {
   "cell_type": "code",
   "execution_count": 9,
   "metadata": {},
   "outputs": [
    {
     "name": "stdout",
     "output_type": "stream",
     "text": [
      "Train R-square for Quadratic Model= 0.40603267365784756\n",
      "Test R-square for Quadratic Model -0.13976744342212855\n"
     ]
    }
   ],
   "source": [
    "#Training and Testing\n",
    "\n",
    "X_train, X_test, y_train, y_test = train_test_split(X,y,test_size=0.5)\n",
    "Xquad_train = poly.fit_transform(X_train)\n",
    "Xquad_test  = poly.fit_transform(X_test)\n",
    "lr.fit(Xquad_train,y_train)\n",
    "print('Train R-square for Quadratic Model=',lr.score(Xquad_train,y_train))\n",
    "print('Test R-square for Quadratic Model',lr.score(Xquad_test,y_test))"
   ]
  },
  {
   "cell_type": "markdown",
   "metadata": {},
   "source": [
    "# Model 3: Polynomial Model (degree 7)"
   ]
  },
  {
   "cell_type": "code",
   "execution_count": 10,
   "metadata": {},
   "outputs": [
    {
     "name": "stdout",
     "output_type": "stream",
     "text": [
      "X dimensions\n",
      "(20, 7)\n",
      "R squared for polynomial model of degree 7= 0.5438824894853835\n"
     ]
    },
    {
     "data": {
      "image/png": "[encoded data removed]",
      "text/plain": [
       "<Figure size 432x288 with 1 Axes>"
      ]
     },
     "metadata": {
      "needs_background": "light"
     },
     "output_type": "display_data"
    }
   ],
   "source": [
    "poly1 = PolynomialFeatures(degree=7,include_bias=False)\n",
    "Xpoly = poly1.fit_transform(X)\n",
    "print(\"X dimensions\")\n",
    "print(Xpoly.shape)\n",
    "# Fit regression\n",
    "lr.fit(Xpoly,y)\n",
    "# Set X's for forecasting\n",
    "xfeature = np.arange(start=-1.5,stop=1.5,step=0.05)\n",
    "# Turn them into a matrix\n",
    "xf = xfeature.reshape(len(xfeature),1)\n",
    "# Add powers of X\n",
    "xfeaturePoly = poly1.fit_transform(xf)\n",
    "yhat = lr.predict(xfeaturePoly)\n",
    "# plot data\n",
    "plt.plot(X,y,'o')\n",
    "# plot features\n",
    "plt.plot(xfeature,yhat)\n",
    "plt.xlabel(\"Feature = x\")\n",
    "plt.ylabel(\"Target = y\")\n",
    "plt.grid()\n",
    "# Report in sample performance of polynomial\n",
    "print('R squared for polynomial model of degree 7=',lr.score(Xpoly,y))"
   ]
  },
  {
   "cell_type": "code",
   "execution_count": 11,
   "metadata": {},
   "outputs": [
    {
     "name": "stdout",
     "output_type": "stream",
     "text": [
      "Train R-square for Polynomial Model of degree 7= 0.9514279455516594\n",
      "Test R-square for Polynomial Model of degree 7= -763328.7563570915\n"
     ]
    }
   ],
   "source": [
    "#Training and Testing:\n",
    "\n",
    "X_train, X_test, y_train, y_test = train_test_split(X,y,test_size=0.5)\n",
    "Xpoly_train = poly1.fit_transform(X_train)\n",
    "Xpoly_test  = poly1.fit_transform(X_test)\n",
    "lr.fit(Xpoly_train,y_train)\n",
    "print('Train R-square for Polynomial Model of degree 7=',lr.score(Xpoly_train,y_train))\n",
    "print('Test R-square for Polynomial Model of degree 7=',lr.score(Xpoly_test,y_test))"
   ]
  }
 ],
 "metadata": {
  "kernelspec": {
   "display_name": "Python 3",
   "language": "python",
   "name": "python3"
  },
  "language_info": {
   "codemirror_mode": {
    "name": "ipython",
    "version": 3
   },
   "file_extension": ".py",
   "mimetype": "text/x-python",
   "name": "python",
   "nbconvert_exporter": "python",
   "pygments_lexer": "ipython3",
   "version": "3.7.6"
  }
 },
 "nbformat": 4,
 "nbformat_minor": 4
}
